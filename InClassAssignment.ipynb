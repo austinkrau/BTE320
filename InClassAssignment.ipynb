{
  "nbformat": 4,
  "nbformat_minor": 0,
  "metadata": {
    "colab": {
      "provenance": [],
      "authorship_tag": "ABX9TyML77PWB5/hUHUWv5dM9RpN",
      "include_colab_link": true
    },
    "kernelspec": {
      "name": "python3",
      "display_name": "Python 3"
    },
    "language_info": {
      "name": "python"
    }
  },
  "cells": [
    {
      "cell_type": "markdown",
      "metadata": {
        "id": "view-in-github",
        "colab_type": "text"
      },
      "source": [
        "<a href=\"https://colab.research.google.com/github/austinkrau/BTE320/blob/main/InClassAssignment.ipynb\" target=\"_parent\"><img src=\"https://colab.research.google.com/assets/colab-badge.svg\" alt=\"Open In Colab\"/></a>"
      ]
    },
    {
      "cell_type": "code",
      "execution_count": null,
      "metadata": {
        "colab": {
          "base_uri": "https://localhost:8080/"
        },
        "id": "-5Mb1FZB2zJq",
        "outputId": "d73526df-4b5d-46fe-c5e3-1b298e91a42d"
      },
      "outputs": [
        {
          "output_type": "stream",
          "name": "stdout",
          "text": [
            "Please provide a height: 7\n",
            "Please provide a radius: 5\n",
            "Area = 376.8 sq. ft\n"
          ]
        }
      ],
      "source": [
        "height = int(input(\"Please provide a height: \"))\n",
        "radius = float(input(\"Please provide a radius: \"))\n",
        "pi = 3.14\n",
        "\n",
        "area = 2*pi*radius**2+2*pi*radius*height\n",
        "print(\"Area = {} sq. ft\".format(area))"
      ]
    },
    {
      "cell_type": "code",
      "source": [
        "n1 = float(input(\"Please provide a number: \"))\n",
        "n2 = float(input(\"Please provide a second number: \"))\n",
        "op = (input(\"Please select an operation, between +,-,*,/,//,**,%\"))\n",
        "if op == \"+\":\n",
        "  res = n1+n2\n",
        "elif op == \"-\":\n",
        "  res = n1-n2\n",
        "elif op == \"*\":\n",
        "  res = n1*n2\n",
        "elif op == \"/\":\n",
        "  res = n1/n2\n",
        "elif op == \"//\":\n",
        "  res = n1//n2\n",
        "elif op == \"**\":\n",
        "  res = n1**n2\n",
        "elif op == \"%\":\n",
        "  res = n1%n2\n",
        "else:\n",
        "  res = 'Invalid operator!'\n",
        "answer = res\n",
        "print(f'{n1} {op} {n2} = {res}')"
      ],
      "metadata": {
        "colab": {
          "base_uri": "https://localhost:8080/"
        },
        "id": "lYnuOrq76MLA",
        "outputId": "c96737f2-2029-4211-dac0-fbdcd882bf19"
      },
      "execution_count": null,
      "outputs": [
        {
          "output_type": "stream",
          "name": "stdout",
          "text": [
            "Please provide a number: 5\n",
            "Please provide a second number: 6\n",
            "Please select an operation, between +,-,*,/,//,**,%+\n",
            "5.0 + 6.0 = 11.0\n"
          ]
        }
      ]
    }
  ]
}