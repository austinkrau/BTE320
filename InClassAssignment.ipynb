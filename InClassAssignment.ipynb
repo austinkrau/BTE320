{
  "nbformat": 4,
  "nbformat_minor": 0,
  "metadata": {
    "colab": {
      "provenance": [],
      "authorship_tag": "ABX9TyNzp2NT5RJEcE1FxySnmK3v",
      "include_colab_link": true
    },
    "kernelspec": {
      "name": "python3",
      "display_name": "Python 3"
    },
    "language_info": {
      "name": "python"
    }
  },
  "cells": [
    {
      "cell_type": "markdown",
      "metadata": {
        "id": "view-in-github",
        "colab_type": "text"
      },
      "source": [
        "<a href=\"https://colab.research.google.com/github/austinkrau/BTE320/blob/main/InClassAssignment.ipynb\" target=\"_parent\"><img src=\"https://colab.research.google.com/assets/colab-badge.svg\" alt=\"Open In Colab\"/></a>"
      ]
    },
    {
      "cell_type": "code",
      "execution_count": null,
      "metadata": {
        "colab": {
          "base_uri": "https://localhost:8080/"
        },
        "id": "-5Mb1FZB2zJq",
        "outputId": "d73526df-4b5d-46fe-c5e3-1b298e91a42d"
      },
      "outputs": [
        {
          "output_type": "stream",
          "name": "stdout",
          "text": [
            "Please provide a height: 7\n",
            "Please provide a radius: 5\n",
            "Area = 376.8 sq. ft\n"
          ]
        }
      ],
      "source": [
        "height = int(input(\"Please provide a height: \"))\n",
        "radius = float(input(\"Please provide a radius: \"))\n",
        "pi = 3.14\n",
        "\n",
        "area = 2*pi*radius**2+2*pi*radius*height\n",
        "print(\"Area = {} sq. ft\".format(area))"
      ]
    }
  ]
}