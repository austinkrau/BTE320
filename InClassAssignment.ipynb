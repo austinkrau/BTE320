{
  "cells": [
    {
      "cell_type": "markdown",
      "metadata": {
        "id": "view-in-github",
        "colab_type": "text"
      },
      "source": [
        "<a href=\"https://colab.research.google.com/github/austinkrau/BTE320/blob/main/InClassAssignment.ipynb\" target=\"_parent\"><img src=\"https://colab.research.google.com/assets/colab-badge.svg\" alt=\"Open In Colab\"/></a>"
      ]
    },
    {
      "cell_type": "code",
      "execution_count": null,
      "metadata": {
        "colab": {
          "base_uri": "https://localhost:8080/"
        },
        "id": "-5Mb1FZB2zJq",
        "outputId": "d73526df-4b5d-46fe-c5e3-1b298e91a42d"
      },
      "outputs": [
        {
          "name": "stdout",
          "output_type": "stream",
          "text": [
            "Please provide a height: 7\n",
            "Please provide a radius: 5\n",
            "Area = 376.8 sq. ft\n"
          ]
        }
      ],
      "source": [
        "height = int(input(\"Please provide a height: \"))\n",
        "radius = float(input(\"Please provide a radius: \"))\n",
        "pi = 3.14\n",
        "\n",
        "area = 2*pi*radius**2+2*pi*radius*height\n",
        "print(\"Area = {} sq. ft\".format(area))"
      ]
    },
    {
      "cell_type": "code",
      "execution_count": null,
      "metadata": {
        "colab": {
          "base_uri": "https://localhost:8080/"
        },
        "id": "lYnuOrq76MLA",
        "outputId": "c96737f2-2029-4211-dac0-fbdcd882bf19"
      },
      "outputs": [
        {
          "name": "stdout",
          "output_type": "stream",
          "text": [
            "Please provide a number: 5\n",
            "Please provide a second number: 6\n",
            "Please select an operation, between +,-,*,/,//,**,%+\n",
            "5.0 + 6.0 = 11.0\n"
          ]
        }
      ],
      "source": [
        "n1 = float(input(\"Please provide a number: \"))\n",
        "n2 = float(input(\"Please provide a second number: \"))\n",
        "op = (input(\"Please select an operation, between +,-,*,/,//,**,%\"))\n",
        "if op == \"+\":\n",
        "  res = n1+n2\n",
        "elif op == \"-\":\n",
        "  res = n1-n2\n",
        "elif op == \"*\":\n",
        "  res = n1*n2\n",
        "elif op == \"/\":\n",
        "  res = n1/n2\n",
        "elif op == \"//\":\n",
        "  res = n1//n2\n",
        "elif op == \"**\":\n",
        "  res = n1**n2\n",
        "elif op == \"%\":\n",
        "  res = n1%n2\n",
        "else:\n",
        "  res = 'Invalid operator!'\n",
        "answer = res\n",
        "print(f'{n1} {op} {n2} = {res}')"
      ]
    },
    {
      "cell_type": "code",
      "execution_count": null,
      "metadata": {
        "colab": {
          "base_uri": "https://localhost:8080/"
        },
        "id": "K7Ty6uynmT30",
        "outputId": "3499b0e0-4328-457f-de7a-a745505d36ab"
      },
      "outputs": [
        {
          "name": "stdout",
          "output_type": "stream",
          "text": [
            "1 10.0\n",
            "2 10.0\n",
            "3 12.5\n",
            "4 15.0\n",
            "5 17.5\n",
            "6 20.0\n",
            "7 20.0\n",
            "8 20.0\n"
          ]
        }
      ],
      "source": [
        "for numberHours in range(1,9):\n",
        "  fee = 5 + 2.5 * numberHours\n",
        "  if fee < 10:\n",
        "    fee = 10.0\n",
        "  elif fee > 20:\n",
        "    fee = 20.0\n",
        "  print(numberHours, fee)"
      ]
    },
    {
      "cell_type": "code",
      "execution_count": null,
      "metadata": {
        "colab": {
          "base_uri": "https://localhost:8080/"
        },
        "id": "Hl1pTrhKoDbf",
        "outputId": "59bee9ae-8059-47c1-ed1f-1122814aee70"
      },
      "outputs": [
        {
          "name": "stdout",
          "output_type": "stream",
          "text": [
            "Ad$\t Profit\n",
            "0 \t 0\n",
            "25 \t 75\n",
            "50 \t 90\n",
            "75 \t 105\n",
            "100 \t 100\n",
            "125 \t 95\n",
            "150 \t 90\n",
            "175 \t 85\n",
            "200 \t 80\n"
          ]
        }
      ],
      "source": [
        "import math\n",
        "\n",
        "print('Ad$\\t', 'Profit')\n",
        "for adMoney in range(0, 201, 25):\n",
        "  revenue = (20 + 2 * round(math.sqrt(adMoney))) * 10\n",
        "  costs = 200 + adMoney\n",
        "  profit = revenue - costs\n",
        "  print(adMoney, '\\t', profit)\n"
      ]
    },
    {
      "cell_type": "code",
      "execution_count": null,
      "metadata": {
        "colab": {
          "background_save": true,
          "base_uri": "https://localhost:8080/"
        },
        "id": "w_r4ypTqcvxr",
        "outputId": "0ad2482f-a34b-4c63-902f-cbce254fd285"
      },
      "outputs": [
        {
          "name": "stdout",
          "output_type": "stream",
          "text": [
            "Player chose Paper; Computer chose Rock\n",
            "Player 1 wins!\n"
          ]
        }
      ],
      "source": [
        "import random\n",
        "\n",
        "play = input('Do you want to play a game (yes/no): ').capitalize()\n",
        "\n",
        "while play == 'Yes':\n",
        "  p1 = input('Player 1 - Choose between rock/paper/scissors: ').capitalize()\n",
        "  p2 = random.choice(['Rock', 'Paper', 'Scissors']).capitalize()\n",
        "\n",
        "  print(f'Player chose {p1}; Computer chose {p2}')\n",
        "\n",
        "  if p1 == p2:\n",
        "    print('Draw!')\n",
        "  elif ((p1 == 'Rock' and p2 == 'Scissors') or\n",
        "        (p1 == 'Scissors' and p2 == 'Paper') or\n",
        "        (p1 == 'Paper' and p2 == 'Rock')\n",
        "       ):\n",
        "    print('Player 1 wins!')\n",
        "  else:\n",
        "    print('Player 2 wins!')\n",
        "\n",
        "  play = input('Do you want to play another game (yes/no): ')\n",
        "print('Good day...')\n"
      ]
    }
  ],
  "metadata": {
    "colab": {
      "provenance": [],
      "authorship_tag": "ABX9TyNz0+kAf2EgxsmdQAot0qXD",
      "include_colab_link": true
    },
    "kernelspec": {
      "display_name": "Python 3",
      "name": "python3"
    },
    "language_info": {
      "name": "python"
    }
  },
  "nbformat": 4,
  "nbformat_minor": 0
}